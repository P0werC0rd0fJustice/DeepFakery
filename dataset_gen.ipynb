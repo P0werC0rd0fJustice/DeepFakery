{
 "cells": [
  {
   "cell_type": "markdown",
   "metadata": {},
   "source": [
    "# Dataset Generator for Discriminator and Auto-encoder Networks"
   ]
  },
  {
   "cell_type": "code",
   "execution_count": 189,
   "metadata": {},
   "outputs": [],
   "source": [
    "import numpy as np\n",
    "import matplotlib.pyplot as plt\n",
    "import pandas as pd\n",
    "import imageio\n",
    "import time"
   ]
  },
  {
   "cell_type": "markdown",
   "metadata": {},
   "source": [
    "### Generate dataframe for discriminator truth images"
   ]
  },
  {
   "cell_type": "code",
   "execution_count": null,
   "metadata": {},
   "outputs": [],
   "source": []
  },
  {
   "cell_type": "markdown",
   "metadata": {},
   "source": [
    "### Generate random dataset for discriminator training"
   ]
  },
  {
   "cell_type": "code",
   "execution_count": 192,
   "metadata": {},
   "outputs": [],
   "source": [
    "def gen_data_discrim(w, h, count):\n",
    "    start_time = time.time()\n",
    "    for n in range(count): #Generate n images\n",
    "        image = []\n",
    "        for x in range(0,w):\n",
    "            for y in range(0,h):\n",
    "                #Set individual pixels to be a random 3-tuple of range 256\n",
    "                image.append(list(np.random.choice(range(256), size=3)))\n",
    "        image = np.array(image,dtype='uint8').reshape(w,h,3)\n",
    "        imageio.imwrite(f\"./data/random_images/image{n}.png\", image)\n",
    "        print(f\"{n} finished\")\n",
    "    elapsed = time.time() - start_time\n",
    "    print(f\"Finished in {elapsed} seconds ({elapsed // 60} minutes, {elapsed % 60} seconds).\")\n"
   ]
  },
  {
   "cell_type": "code",
   "execution_count": null,
   "metadata": {},
   "outputs": [
    {
     "name": "stdout",
     "output_type": "stream",
     "text": [
      "0 finished\n",
      "1 finished\n",
      "2 finished\n",
      "3 finished\n",
      "4 finished\n",
      "5 finished\n",
      "6 finished\n",
      "7 finished\n",
      "8 finished\n",
      "9 finished\n",
      "10 finished\n",
      "11 finished\n",
      "12 finished\n",
      "13 finished\n",
      "14 finished\n",
      "15 finished\n",
      "16 finished\n",
      "17 finished\n",
      "18 finished\n",
      "19 finished\n",
      "20 finished\n",
      "21 finished\n",
      "22 finished\n",
      "23 finished\n",
      "24 finished\n",
      "25 finished\n",
      "26 finished\n",
      "27 finished\n",
      "28 finished\n",
      "29 finished\n",
      "30 finished\n"
     ]
    }
   ],
   "source": [
    "dataset = gen_data_discrim(256,256, 1000) #This takes quite a while"
   ]
  },
  {
   "cell_type": "code",
   "execution_count": null,
   "metadata": {},
   "outputs": [],
   "source": []
  },
  {
   "cell_type": "code",
   "execution_count": null,
   "metadata": {},
   "outputs": [],
   "source": []
  }
 ],
 "metadata": {
  "kernelspec": {
   "display_name": "Python 3",
   "language": "python",
   "name": "python3"
  },
  "language_info": {
   "codemirror_mode": {
    "name": "ipython",
    "version": 3
   },
   "file_extension": ".py",
   "mimetype": "text/x-python",
   "name": "python",
   "nbconvert_exporter": "python",
   "pygments_lexer": "ipython3",
   "version": "3.8.2"
  }
 },
 "nbformat": 4,
 "nbformat_minor": 2
}
